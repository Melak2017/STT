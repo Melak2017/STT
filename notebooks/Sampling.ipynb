{
 "cells": [
  {
   "cell_type": "code",
   "execution_count": null,
   "metadata": {},
   "outputs": [],
   "source": [
    "import librosa   #for audio processing\n",
    "import IPython.display as ipd\n",
    "import matplotlib.pyplot as plt\n",
    "import numpy as np\n",
    "from scipy.io import wavfile #for audio processing\n",
    "import warnings\n",
    "warnings.filterwarnings(\"ignore\")\n",
    "import os\n",
    "import pandas as pd"
   ]
  },
  {
   "cell_type": "markdown",
   "metadata": {},
   "source": [
    "# Converting files into dataframe"
   ]
  },
  {
   "cell_type": "code",
   "execution_count": null,
   "metadata": {},
   "outputs": [],
   "source": [
    "def tran_loader(filename):\n",
    "    name_to_text = {}\n",
    "    with open (filename, encoding=\"utf-8\")as f:\n",
    "        f.readline()\n",
    "        for line in f:\n",
    "            name=line.split(\"</s>\")[1]\n",
    "            name=name.replace('(', '')\n",
    "            name=name.replace(')', '')\n",
    "            name=name.replace('\\n','')\n",
    "            name=name.replace(' ','')\n",
    "            text=line.split(\"</s>\")[0]\n",
    "            text=text.replace(\"<s>\",\"\")\n",
    "            name_to_text[name]=text\n",
    "        return name_to_text"
   ]
  },
  {
   "cell_type": "code",
   "execution_count": null,
   "metadata": {},
   "outputs": [],
   "source": [
    "transcription=tran_loader(r\"C:\\Users\\sam\\Desktop\\lang\\AMHARIC\\data\\trsTrain.txt\")"
   ]
  },
  {
   "cell_type": "code",
   "execution_count": null,
   "metadata": {},
   "outputs": [],
   "source": [
    "def meta_data(trans, path ):\n",
    "    target=[]\n",
    "    features=[]\n",
    "    filenames=[]\n",
    "    duration_of_recordings=[]\n",
    "    for k in trans:\n",
    "        filename=path+k +\".wav\"\n",
    "        filenames.append(filename)\n",
    "        audio, fs = librosa.load(filename, sr=None)\n",
    "        duration_of_recordings.append(float(len(audio)/fs))\n",
    "\n",
    "        lable = trans[k]\n",
    "        target.append(lable)\n",
    "    return filenames, target,duration_of_recordings"
   ]
  },
  {
   "cell_type": "code",
   "execution_count": null,
   "metadata": {},
   "outputs": [],
   "source": [
    "filenames, target,duration_of_recordings= meta_data(transcription,'valid/')"
   ]
  },
  {
   "cell_type": "code",
   "execution_count": null,
   "metadata": {},
   "outputs": [],
   "source": [
    "data=pd.DataFrame({'key': filenames,'text': target, 'duration':duration_of_recordings})"
   ]
  },
  {
   "cell_type": "code",
   "execution_count": null,
   "metadata": {},
   "outputs": [],
   "source": [
    "data.head()"
   ]
  },
  {
   "cell_type": "markdown",
   "metadata": {},
   "source": [
    "# Resampling"
   ]
  },
  {
   "cell_type": "code",
   "execution_count": null,
   "metadata": {},
   "outputs": [],
   "source": [
    "# resampling any loaded audio files to 44.1KHZ \n",
    "def resample(df, ):\n",
    "    sampled_audio = []\n",
    "    rates = []\n",
    "    for i in data['key']:\n",
    "        audio, rate=librosa.load(i, sr=44100)\n",
    "        sampled_audio.append(audio)\n",
    "    \n",
    "    return sampled_audio"
   ]
  },
  {
   "cell_type": "code",
   "execution_count": null,
   "metadata": {},
   "outputs": [],
   "source": []
  },
  {
   "cell_type": "code",
   "execution_count": null,
   "metadata": {},
   "outputs": [],
   "source": []
  }
 ],
 "metadata": {
  "kernelspec": {
   "display_name": "Python 3",
   "language": "python",
   "name": "python3"
  },
  "language_info": {
   "codemirror_mode": {
    "name": "ipython",
    "version": 3
   },
   "file_extension": ".py",
   "mimetype": "text/x-python",
   "name": "python",
   "nbconvert_exporter": "python",
   "pygments_lexer": "ipython3",
   "version": "3.7.4"
  }
 },
 "nbformat": 4,
 "nbformat_minor": 2
}
