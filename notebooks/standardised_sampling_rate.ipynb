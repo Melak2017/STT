{
 "cells": [
  {
   "cell_type": "markdown",
   "metadata": {},
   "source": [
    "# Standard Sample Rate"
   ]
  },
  {
   "cell_type": "markdown",
   "metadata": {},
   "source": [
    "* What is standard sample rate?\n",
    "\n",
    "In audio production, a sample rate (or \"sampling rate\") defines how many times per second a sound is sampled. Technically speaking, it is the frequency of samples used in a digital recording. The standard sample rate used for audio CDs is 44.1 kilohertz (44,100 hertz)."
   ]
  },
  {
   "cell_type": "markdown",
   "metadata": {},
   "source": [
    "* Why should we resample?\n",
    "\n",
    "Some of the audio files are at a different rate than 44100Hz. For example if we have a rate of 48000HZ, this means that 1 second of audio will have an array size of 48000 for some sound files, while it will have a smaller array size of 44100 for the others. Once again, we must standardize and convert all audio to the same sampling rate so that all arrays have the same dimensions."
   ]
  },
  {
   "cell_type": "code",
   "execution_count": 1,
   "metadata": {
    "colab": {
     "base_uri": "https://localhost:8080/"
    },
    "executionInfo": {
     "elapsed": 30448,
     "status": "ok",
     "timestamp": 1654018389599,
     "user": {
      "displayName": "Selam Ayehubirhan",
      "userId": "06798422864346636867"
     },
     "user_tz": -180
    },
    "id": "yfZ-cWHSLO3N",
    "outputId": "7e950bac-f35a-4101-cd8f-8c949c7b4e42"
   },
   "outputs": [
    {
     "name": "stdout",
     "output_type": "stream",
     "text": [
      "Mounted at /content/drive\n"
     ]
    }
   ],
   "source": [
    "from google.colab import drive\n",
    "drive.mount('/content/drive')"
   ]
  },
  {
   "cell_type": "code",
   "execution_count": 2,
   "metadata": {
    "colab": {
     "base_uri": "https://localhost:8080/"
    },
    "executionInfo": {
     "elapsed": 542,
     "status": "ok",
     "timestamp": 1654018400993,
     "user": {
      "displayName": "Selam Ayehubirhan",
      "userId": "06798422864346636867"
     },
     "user_tz": -180
    },
    "id": "UpqqSin_LZbL",
    "outputId": "4fbd9331-2ae0-4242-9fdd-e6470aac573b"
   },
   "outputs": [
    {
     "data": {
      "text/plain": [
       "['README.md', 'data', 'kaldi-script', 'lang', 'lm', 'meta_data.csv']"
      ]
     },
     "execution_count": 2,
     "metadata": {},
     "output_type": "execute_result"
    }
   ],
   "source": [
    "import os\n",
    "os.chdir(\"drive/My Drive/AMHARIC\")\n",
    "os.listdir()"
   ]
  },
  {
   "cell_type": "code",
   "execution_count": 2,
   "metadata": {
    "executionInfo": {
     "elapsed": 1280,
     "status": "ok",
     "timestamp": 1654018412148,
     "user": {
      "displayName": "Selam Ayehubirhan",
      "userId": "06798422864346636867"
     },
     "user_tz": -180
    },
    "id": "amOLfAgWLZeU"
   },
   "outputs": [],
   "source": [
    "import librosa   #for audio processing\n",
    "import IPython.display as ipd\n",
    "import matplotlib.pyplot as plt\n",
    "import numpy as np\n",
    "from scipy.io import wavfile #for audio processing\n",
    "#for pipeline\n",
    "from sklearn.pipeline import Pipeline\n",
    "from sklearn.preprocessing import FunctionTransformer\n",
    "import warnings\n",
    "warnings.filterwarnings(\"ignore\")"
   ]
  },
  {
   "cell_type": "markdown",
   "metadata": {},
   "source": [
    "* Create meta data to pass the path of the audios to resample it to 44.1 KHZ"
   ]
  },
  {
   "cell_type": "code",
   "execution_count": null,
   "metadata": {
    "colab": {
     "base_uri": "https://localhost:8080/",
     "height": 423
    },
    "executionInfo": {
     "elapsed": 431,
     "status": "ok",
     "timestamp": 1654018942700,
     "user": {
      "displayName": "Selam Ayehubirhan",
      "userId": "06798422864346636867"
     },
     "user_tz": -180
    },
    "id": "mf83JLphLZoK",
    "outputId": "e35e8547-72a4-42ab-f36d-1b3c947c3d8e"
   },
   "outputs": [],
   "source": [
    "import pandas as pd\n",
    "meta_data=pd.read_csv(\"data/train/trsTrain.txt\",sep=\"\\t\",header=None)\n",
    "def create_meta_data(df:pd.DataFrame, column1:str, column2:str):\n",
    "    df.rename(columns = {0: column1}, inplace = True)\n",
    "    df[column2] = df[column1].apply(lambda x: x.split(\"</s>\")[1].replace(\"(\", \"\").replace(\")\", \"\").strip())\n",
    "    df[column1] = df[column1].apply(lambda x: x.split(\"</s>\")[0])\n",
    "    df[column1] = df[column1].apply(lambda x: x.split(\"<s>\")[1].strip())\n",
    "    df[column2] = df[column2].apply(lambda x: \"data/train/wav/\"+x+\".wav\")\n",
    "    return df\n",
    "\n",
    "pipe = Pipeline(steps = [(\"metadata\", FunctionTransformer(create_meta_data, kw_args={\"column1\":'Transcript', \"column2\": 'audio'}))])\n",
    "meta_pipe = pipe.fit_transform(meta_data)\n",
    "meta_data"
   ]
  },
  {
   "cell_type": "markdown",
   "metadata": {},
   "source": [
    "## Resampling"
   ]
  },
  {
   "cell_type": "code",
   "execution_count": null,
   "metadata": {
    "id": "F4Ee44wpLZrU"
   },
   "outputs": [],
   "source": [
    "# resampling any loaded audio files to 44.1KHZ \n",
    "def resample(df, column):\n",
    "    sampled_audio = []\n",
    "    rates = []\n",
    "    for i in df[column]:\n",
    "        audio, rate=librosa.load(i, sr=44100)\n",
    "        sampled_audio.append(audio)\n",
    "        rates.append(rate)\n",
    "    \n",
    "    return sampled_audio, rates\n",
    "resample(meta_data, 'audio')\n"
   ]
  }
 ],
 "metadata": {
  "colab": {
   "authorship_tag": "ABX9TyOhTr1uBH8NeIvZjLRkkYNH",
   "collapsed_sections": [],
   "name": "standardised_sampling_rate.ipynb",
   "provenance": []
  },
  "kernelspec": {
   "display_name": "Python 3 (ipykernel)",
   "language": "python",
   "name": "python3"
  },
  "language_info": {
   "codemirror_mode": {
    "name": "ipython",
    "version": 3
   },
   "file_extension": ".py",
   "mimetype": "text/x-python",
   "name": "python",
   "nbconvert_exporter": "python",
   "pygments_lexer": "ipython3",
   "version": "3.10.3"
  }
 },
 "nbformat": 4,
 "nbformat_minor": 1
}
