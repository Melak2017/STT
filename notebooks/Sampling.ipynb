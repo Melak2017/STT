{
 "cells": [
  {
   "cell_type": "code",
   "execution_count": 1,
   "metadata": {},
   "outputs": [
    {
     "name": "stderr",
     "output_type": "stream",
     "text": [
      "C:\\Users\\sam\\Anaconda3\\lib\\site-packages\\sklearn\\linear_model\\least_angle.py:30: DeprecationWarning: `np.float` is a deprecated alias for the builtin `float`. To silence this warning, use `float` by itself. Doing this will not modify any behavior and is safe. If you specifically wanted the numpy scalar type, use `np.float64` here.\n",
      "Deprecated in NumPy 1.20; for more details and guidance: https://numpy.org/devdocs/release/1.20.0-notes.html#deprecations\n",
      "  method='lar', copy_X=True, eps=np.finfo(np.float).eps,\n",
      "C:\\Users\\sam\\Anaconda3\\lib\\site-packages\\sklearn\\linear_model\\least_angle.py:167: DeprecationWarning: `np.float` is a deprecated alias for the builtin `float`. To silence this warning, use `float` by itself. Doing this will not modify any behavior and is safe. If you specifically wanted the numpy scalar type, use `np.float64` here.\n",
      "Deprecated in NumPy 1.20; for more details and guidance: https://numpy.org/devdocs/release/1.20.0-notes.html#deprecations\n",
      "  method='lar', copy_X=True, eps=np.finfo(np.float).eps,\n",
      "C:\\Users\\sam\\Anaconda3\\lib\\site-packages\\sklearn\\linear_model\\least_angle.py:284: DeprecationWarning: `np.float` is a deprecated alias for the builtin `float`. To silence this warning, use `float` by itself. Doing this will not modify any behavior and is safe. If you specifically wanted the numpy scalar type, use `np.float64` here.\n",
      "Deprecated in NumPy 1.20; for more details and guidance: https://numpy.org/devdocs/release/1.20.0-notes.html#deprecations\n",
      "  eps=np.finfo(np.float).eps, copy_Gram=True, verbose=0,\n",
      "C:\\Users\\sam\\Anaconda3\\lib\\site-packages\\sklearn\\linear_model\\least_angle.py:862: DeprecationWarning: `np.float` is a deprecated alias for the builtin `float`. To silence this warning, use `float` by itself. Doing this will not modify any behavior and is safe. If you specifically wanted the numpy scalar type, use `np.float64` here.\n",
      "Deprecated in NumPy 1.20; for more details and guidance: https://numpy.org/devdocs/release/1.20.0-notes.html#deprecations\n",
      "  eps=np.finfo(np.float).eps, copy_X=True, fit_path=True,\n",
      "C:\\Users\\sam\\Anaconda3\\lib\\site-packages\\sklearn\\linear_model\\least_angle.py:1101: DeprecationWarning: `np.float` is a deprecated alias for the builtin `float`. To silence this warning, use `float` by itself. Doing this will not modify any behavior and is safe. If you specifically wanted the numpy scalar type, use `np.float64` here.\n",
      "Deprecated in NumPy 1.20; for more details and guidance: https://numpy.org/devdocs/release/1.20.0-notes.html#deprecations\n",
      "  eps=np.finfo(np.float).eps, copy_X=True, fit_path=True,\n",
      "C:\\Users\\sam\\Anaconda3\\lib\\site-packages\\sklearn\\linear_model\\least_angle.py:1127: DeprecationWarning: `np.float` is a deprecated alias for the builtin `float`. To silence this warning, use `float` by itself. Doing this will not modify any behavior and is safe. If you specifically wanted the numpy scalar type, use `np.float64` here.\n",
      "Deprecated in NumPy 1.20; for more details and guidance: https://numpy.org/devdocs/release/1.20.0-notes.html#deprecations\n",
      "  eps=np.finfo(np.float).eps, positive=False):\n",
      "C:\\Users\\sam\\Anaconda3\\lib\\site-packages\\sklearn\\linear_model\\least_angle.py:1362: DeprecationWarning: `np.float` is a deprecated alias for the builtin `float`. To silence this warning, use `float` by itself. Doing this will not modify any behavior and is safe. If you specifically wanted the numpy scalar type, use `np.float64` here.\n",
      "Deprecated in NumPy 1.20; for more details and guidance: https://numpy.org/devdocs/release/1.20.0-notes.html#deprecations\n",
      "  max_n_alphas=1000, n_jobs=None, eps=np.finfo(np.float).eps,\n",
      "C:\\Users\\sam\\Anaconda3\\lib\\site-packages\\sklearn\\linear_model\\least_angle.py:1602: DeprecationWarning: `np.float` is a deprecated alias for the builtin `float`. To silence this warning, use `float` by itself. Doing this will not modify any behavior and is safe. If you specifically wanted the numpy scalar type, use `np.float64` here.\n",
      "Deprecated in NumPy 1.20; for more details and guidance: https://numpy.org/devdocs/release/1.20.0-notes.html#deprecations\n",
      "  max_n_alphas=1000, n_jobs=None, eps=np.finfo(np.float).eps,\n",
      "C:\\Users\\sam\\Anaconda3\\lib\\site-packages\\sklearn\\linear_model\\least_angle.py:1738: DeprecationWarning: `np.float` is a deprecated alias for the builtin `float`. To silence this warning, use `float` by itself. Doing this will not modify any behavior and is safe. If you specifically wanted the numpy scalar type, use `np.float64` here.\n",
      "Deprecated in NumPy 1.20; for more details and guidance: https://numpy.org/devdocs/release/1.20.0-notes.html#deprecations\n",
      "  eps=np.finfo(np.float).eps, copy_X=True, positive=False):\n",
      "C:\\Users\\sam\\Anaconda3\\lib\\site-packages\\sklearn\\decomposition\\online_lda.py:29: DeprecationWarning: `np.float` is a deprecated alias for the builtin `float`. To silence this warning, use `float` by itself. Doing this will not modify any behavior and is safe. If you specifically wanted the numpy scalar type, use `np.float64` here.\n",
      "Deprecated in NumPy 1.20; for more details and guidance: https://numpy.org/devdocs/release/1.20.0-notes.html#deprecations\n",
      "  EPS = np.finfo(np.float).eps\n",
      "C:\\Users\\sam\\Anaconda3\\lib\\site-packages\\sklearn\\feature_extraction\\image.py:167: DeprecationWarning: `np.int` is a deprecated alias for the builtin `int`. To silence this warning, use `int` by itself. Doing this will not modify any behavior and is safe. When replacing `np.int`, you may wish to use e.g. `np.int64` or `np.int32` to specify the precision. If you wish to review your current use, check the release note link for additional information.\n",
      "Deprecated in NumPy 1.20; for more details and guidance: https://numpy.org/devdocs/release/1.20.0-notes.html#deprecations\n",
      "  dtype=np.int):\n"
     ]
    }
   ],
   "source": [
    "import librosa   #for audio processing\n",
    "import IPython.display as ipd\n",
    "import matplotlib.pyplot as plt\n",
    "import numpy as np\n",
    "from scipy.io import wavfile #for audio processing\n",
    "import warnings\n",
    "warnings.filterwarnings(\"ignore\")\n",
    "import os\n",
    "import pandas as pd"
   ]
  },
  {
   "cell_type": "markdown",
   "metadata": {},
   "source": [
    "# Converting files into dataframe"
   ]
  },
  {
   "cell_type": "code",
   "execution_count": 2,
   "metadata": {},
   "outputs": [],
   "source": [
    "def tran_loader(filename):\n",
    "    name_to_text = {}\n",
    "    with open (filename, encoding=\"utf-8\")as f:\n",
    "        f.readline()\n",
    "        for line in f:\n",
    "            name=line.split(\"</s>\")[1]\n",
    "            name=name.replace('(', '')\n",
    "            name=name.replace(')', '')\n",
    "            name=name.replace('\\n','')\n",
    "            name=name.replace(' ','')\n",
    "            text=line.split(\"</s>\")[0]\n",
    "            text=text.replace(\"<s>\",\"\")\n",
    "            name_to_text[name]=text\n",
    "        return name_to_text"
   ]
  },
  {
   "cell_type": "code",
   "execution_count": 24,
   "metadata": {},
   "outputs": [],
   "source": [
    "transcription=tran_loader(r\"C:\\Users\\sam\\Desktop\\lang\\AMHARIC\\data\\test\\trsTest.txt\")"
   ]
  },
  {
   "cell_type": "code",
   "execution_count": 25,
   "metadata": {},
   "outputs": [],
   "source": [
    "def meta_data(trans, path ):\n",
    "    target=[]\n",
    "    features=[]\n",
    "    filenames=[]\n",
    "    duration_of_recordings=[]\n",
    "    for k in trans:\n",
    "        new = os.path.join(path,k)\n",
    "        filename=new +\".wav\"\n",
    "        filenames.append(filename)\n",
    "        audio, fs = librosa.load(filename, sr=None)\n",
    "        duration_of_recordings.append(float(len(audio)/fs))\n",
    "\n",
    "        lable = trans[k]\n",
    "        target.append(lable)\n",
    "    return filenames, target,duration_of_recordings"
   ]
  },
  {
   "cell_type": "code",
   "execution_count": null,
   "metadata": {},
   "outputs": [],
   "source": [
    "# os.path.abspath(r'C:\\Users\\sam\\Desktop\\lang\\AMHARIC\\data\\train')\n",
    "path = r'C:\\Users\\sam\\Desktop\\lang\\AMHARIC\\data\\test\\wav'\n",
    "filenames, target,duration_of_recordings= meta_data(transcription, path)"
   ]
  },
  {
   "cell_type": "code",
   "execution_count": 27,
   "metadata": {},
   "outputs": [],
   "source": [
    "data=pd.DataFrame({'key': filenames,'text': target, 'duration':duration_of_recordings})"
   ]
  },
  {
   "cell_type": "code",
   "execution_count": 28,
   "metadata": {},
   "outputs": [
    {
     "data": {
      "text/html": [
       "<div>\n",
       "<style scoped>\n",
       "    .dataframe tbody tr th:only-of-type {\n",
       "        vertical-align: middle;\n",
       "    }\n",
       "\n",
       "    .dataframe tbody tr th {\n",
       "        vertical-align: top;\n",
       "    }\n",
       "\n",
       "    .dataframe thead th {\n",
       "        text-align: right;\n",
       "    }\n",
       "</style>\n",
       "<table border=\"1\" class=\"dataframe\">\n",
       "  <thead>\n",
       "    <tr style=\"text-align: right;\">\n",
       "      <th></th>\n",
       "      <th>key</th>\n",
       "      <th>text</th>\n",
       "      <th>duration</th>\n",
       "    </tr>\n",
       "  </thead>\n",
       "  <tbody>\n",
       "    <tr>\n",
       "      <td>0</td>\n",
       "      <td>C:\\Users\\sam\\Desktop\\lang\\AMHARIC\\data\\test\\wa...</td>\n",
       "      <td>በዚህ ም አነስተኛ መስኖ ዎችን በ ማስፋፋት አገሪቱ ን በ ተደጋጋሚ ከሚ...</td>\n",
       "      <td>12.544</td>\n",
       "    </tr>\n",
       "    <tr>\n",
       "      <td>1</td>\n",
       "      <td>C:\\Users\\sam\\Desktop\\lang\\AMHARIC\\data\\test\\wa...</td>\n",
       "      <td>ይህ እንዳይሆን በ ህይወታቸው መስዋእትነት ያስገኙ ትን የ ኢትዮጵያዊ ነ...</td>\n",
       "      <td>13.696</td>\n",
       "    </tr>\n",
       "    <tr>\n",
       "      <td>2</td>\n",
       "      <td>C:\\Users\\sam\\Desktop\\lang\\AMHARIC\\data\\test\\wa...</td>\n",
       "      <td>የመጀመሪያ ው ነጥብ በ ተቃዋሚ ሀይሎች ሰፈር በ ጋራ አቋም ላይ በ ጋራ...</td>\n",
       "      <td>10.752</td>\n",
       "    </tr>\n",
       "    <tr>\n",
       "      <td>3</td>\n",
       "      <td>C:\\Users\\sam\\Desktop\\lang\\AMHARIC\\data\\test\\wa...</td>\n",
       "      <td>አቅም በሚ ፈቅደው መሰረት አስቀድሞ መዘጋጀት ስለሚ ፈልጉ የሚ ያጠራጥር...</td>\n",
       "      <td>11.392</td>\n",
       "    </tr>\n",
       "    <tr>\n",
       "      <td>4</td>\n",
       "      <td>C:\\Users\\sam\\Desktop\\lang\\AMHARIC\\data\\test\\wa...</td>\n",
       "      <td>ከ ለ ቀስተኞቹ መካከል አብዛኛዎቹ ጸሀዩ ዛሬ ተገለጠ ሀይለስላሴ ማሩን ...</td>\n",
       "      <td>16.000</td>\n",
       "    </tr>\n",
       "  </tbody>\n",
       "</table>\n",
       "</div>"
      ],
      "text/plain": [
       "                                                 key  \\\n",
       "0  C:\\Users\\sam\\Desktop\\lang\\AMHARIC\\data\\test\\wa...   \n",
       "1  C:\\Users\\sam\\Desktop\\lang\\AMHARIC\\data\\test\\wa...   \n",
       "2  C:\\Users\\sam\\Desktop\\lang\\AMHARIC\\data\\test\\wa...   \n",
       "3  C:\\Users\\sam\\Desktop\\lang\\AMHARIC\\data\\test\\wa...   \n",
       "4  C:\\Users\\sam\\Desktop\\lang\\AMHARIC\\data\\test\\wa...   \n",
       "\n",
       "                                                text  duration  \n",
       "0   በዚህ ም አነስተኛ መስኖ ዎችን በ ማስፋፋት አገሪቱ ን በ ተደጋጋሚ ከሚ...    12.544  \n",
       "1   ይህ እንዳይሆን በ ህይወታቸው መስዋእትነት ያስገኙ ትን የ ኢትዮጵያዊ ነ...    13.696  \n",
       "2   የመጀመሪያ ው ነጥብ በ ተቃዋሚ ሀይሎች ሰፈር በ ጋራ አቋም ላይ በ ጋራ...    10.752  \n",
       "3   አቅም በሚ ፈቅደው መሰረት አስቀድሞ መዘጋጀት ስለሚ ፈልጉ የሚ ያጠራጥር...    11.392  \n",
       "4   ከ ለ ቀስተኞቹ መካከል አብዛኛዎቹ ጸሀዩ ዛሬ ተገለጠ ሀይለስላሴ ማሩን ...    16.000  "
      ]
     },
     "execution_count": 28,
     "metadata": {},
     "output_type": "execute_result"
    }
   ],
   "source": [
    "data.head()"
   ]
  },
  {
   "cell_type": "markdown",
   "metadata": {},
   "source": [
    "# Resampling"
   ]
  },
  {
   "cell_type": "code",
   "execution_count": 34,
   "metadata": {},
   "outputs": [],
   "source": [
    "# resampling any loaded audio files to 44.1KHZ \n",
    "def resample(df, column):\n",
    "    sampled_audio = []\n",
    "    rates = []\n",
    "    for i in df[column]:\n",
    "        audio, rate=librosa.load(i, sr=44100)\n",
    "        sampled_audio.append(audio)\n",
    "        rates.append(rate)\n",
    "    \n",
    "    return sampled_audio, rates"
   ]
  },
  {
   "cell_type": "code",
   "execution_count": 35,
   "metadata": {},
   "outputs": [],
   "source": [
    "sampled_audio, rates = resample(data, 'key')"
   ]
  },
  {
   "cell_type": "code",
   "execution_count": null,
   "metadata": {},
   "outputs": [],
   "source": [
    "ipd.Audio(sampled_audio[1], rate=rates[1])"
   ]
  }
 ],
 "metadata": {
  "kernelspec": {
   "display_name": "Python 3",
   "language": "python",
   "name": "python3"
  },
  "language_info": {
   "codemirror_mode": {
    "name": "ipython",
    "version": 3
   },
   "file_extension": ".py",
   "mimetype": "text/x-python",
   "name": "python",
   "nbconvert_exporter": "python",
   "pygments_lexer": "ipython3",
   "version": "3.7.4"
  }
 },
 "nbformat": 4,
 "nbformat_minor": 2
}
