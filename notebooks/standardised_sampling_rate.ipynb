{
 "cells": [
  {
   "cell_type": "markdown",
   "metadata": {},
   "source": [
    "### Standard Sample Rate"
   ]
  },
  {
   "cell_type": "markdown",
   "metadata": {},
   "source": [
    "* What is standard sample rate?\n",
    "\n",
    "In audio production, a sample rate (or \"sampling rate\") defines how many times per second a sound is sampled. Technically speaking, it is the frequency of samples used in a digital recording. The standard sample rate used for audio CDs is 44.1 kilohertz (44,100 hertz)."
   ]
  },
  {
   "cell_type": "markdown",
   "metadata": {},
   "source": [
    "* Why should we resample?\n",
    "\n",
    "Some of the sound files are sampled at a sample rate of 48000Hz, while most are sampled at a rate of 44100Hz. This means that 1 second of audio will have an array size of 48000 for some sound files, while it will have a smaller array size of 44100 for the others. Once again, we must standardize and convert all audio to the same sampling rate so that all arrays have the same dimensions."
   ]
  },
  {
   "cell_type": "code",
   "execution_count": 1,
   "metadata": {
    "colab": {
     "base_uri": "https://localhost:8080/"
    },
    "executionInfo": {
     "elapsed": 30448,
     "status": "ok",
     "timestamp": 1654018389599,
     "user": {
      "displayName": "Selam Ayehubirhan",
      "userId": "06798422864346636867"
     },
     "user_tz": -180
    },
    "id": "yfZ-cWHSLO3N",
    "outputId": "7e950bac-f35a-4101-cd8f-8c949c7b4e42"
   },
   "outputs": [
    {
     "name": "stdout",
     "output_type": "stream",
     "text": [
      "Mounted at /content/drive\n"
     ]
    }
   ],
   "source": [
    "from google.colab import drive\n",
    "drive.mount('/content/drive')"
   ]
  },
  {
   "cell_type": "code",
   "execution_count": 2,
   "metadata": {
    "colab": {
     "base_uri": "https://localhost:8080/"
    },
    "executionInfo": {
     "elapsed": 542,
     "status": "ok",
     "timestamp": 1654018400993,
     "user": {
      "displayName": "Selam Ayehubirhan",
      "userId": "06798422864346636867"
     },
     "user_tz": -180
    },
    "id": "UpqqSin_LZbL",
    "outputId": "4fbd9331-2ae0-4242-9fdd-e6470aac573b"
   },
   "outputs": [
    {
     "data": {
      "text/plain": [
       "['README.md', 'data', 'kaldi-script', 'lang', 'lm', 'meta_data.csv']"
      ]
     },
     "execution_count": 2,
     "metadata": {},
     "output_type": "execute_result"
    }
   ],
   "source": [
    "import os\n",
    "os.chdir(\"drive/My Drive/AMHARIC\")\n",
    "os.listdir()"
   ]
  },
  {
   "cell_type": "code",
   "execution_count": 3,
   "metadata": {
    "executionInfo": {
     "elapsed": 1280,
     "status": "ok",
     "timestamp": 1654018412148,
     "user": {
      "displayName": "Selam Ayehubirhan",
      "userId": "06798422864346636867"
     },
     "user_tz": -180
    },
    "id": "amOLfAgWLZeU"
   },
   "outputs": [],
   "source": [
    "import librosa   #for audio processing\n",
    "import IPython.display as ipd\n",
    "import matplotlib.pyplot as plt\n",
    "import numpy as np\n",
    "from scipy.io import wavfile #for audio processing\n",
    "import warnings\n",
    "warnings.filterwarnings(\"ignore\")"
   ]
  },
  {
   "cell_type": "markdown",
   "metadata": {},
   "source": [
    "* Create meta data to pass the path of the audios to resample it to 44.1 KHZ"
   ]
  },
  {
   "cell_type": "code",
   "execution_count": 8,
   "metadata": {
    "colab": {
     "base_uri": "https://localhost:8080/",
     "height": 423
    },
    "executionInfo": {
     "elapsed": 431,
     "status": "ok",
     "timestamp": 1654018942700,
     "user": {
      "displayName": "Selam Ayehubirhan",
      "userId": "06798422864346636867"
     },
     "user_tz": -180
    },
    "id": "mf83JLphLZoK",
    "outputId": "e35e8547-72a4-42ab-f36d-1b3c947c3d8e"
   },
   "outputs": [
    {
     "data": {
      "text/html": [
       "\n",
       "  <div id=\"df-b2a05b27-f612-444a-a049-3d647f232c4e\">\n",
       "    <div class=\"colab-df-container\">\n",
       "      <div>\n",
       "<style scoped>\n",
       "    .dataframe tbody tr th:only-of-type {\n",
       "        vertical-align: middle;\n",
       "    }\n",
       "\n",
       "    .dataframe tbody tr th {\n",
       "        vertical-align: top;\n",
       "    }\n",
       "\n",
       "    .dataframe thead th {\n",
       "        text-align: right;\n",
       "    }\n",
       "</style>\n",
       "<table border=\"1\" class=\"dataframe\">\n",
       "  <thead>\n",
       "    <tr style=\"text-align: right;\">\n",
       "      <th></th>\n",
       "      <th>Transcript</th>\n",
       "      <th>audio</th>\n",
       "    </tr>\n",
       "  </thead>\n",
       "  <tbody>\n",
       "    <tr>\n",
       "      <th>0</th>\n",
       "      <td>ያንደኛ ደረጃ ትምህርታቸው ን ጐንደር ተ ም ረዋል</td>\n",
       "      <td>data/train/wav/tr_1_tr01001.wav</td>\n",
       "    </tr>\n",
       "    <tr>\n",
       "      <th>1</th>\n",
       "      <td>የተ ለቀቁት ምርኮኞች በ አካባቢያቸው ሰላማዊ ኑሮ እንዲ ኖሩ የ ትራንስፖ...</td>\n",
       "      <td>data/train/wav/tr_2_tr01002.wav</td>\n",
       "    </tr>\n",
       "    <tr>\n",
       "      <th>2</th>\n",
       "      <td>በ አዲስ አበባው ስታዲየም በ ተካሄዱ ት ሁለት ግጥሚያ ዎች በ መጀመሪያ ...</td>\n",
       "      <td>data/train/wav/tr_3_tr01003.wav</td>\n",
       "    </tr>\n",
       "    <tr>\n",
       "      <th>3</th>\n",
       "      <td>ወሬው ን ወሬ ያደረጉ ምስጢረ ኞች ናቸው</td>\n",
       "      <td>data/train/wav/tr_4_tr01004.wav</td>\n",
       "    </tr>\n",
       "    <tr>\n",
       "      <th>4</th>\n",
       "      <td>ኢትዮጵያዊ ቷ በ ብሄራዊ ባህላዊ አለባበስ ከ አለም አንደኝነት ን ተቀዳጀ ች</td>\n",
       "      <td>data/train/wav/tr_5_tr01005.wav</td>\n",
       "    </tr>\n",
       "    <tr>\n",
       "      <th>...</th>\n",
       "      <td>...</td>\n",
       "      <td>...</td>\n",
       "    </tr>\n",
       "    <tr>\n",
       "      <th>10870</th>\n",
       "      <td>እንስራ ው ተ ሸነቆረ</td>\n",
       "      <td>data/train/wav/tr_10871_tr09145.wav</td>\n",
       "    </tr>\n",
       "    <tr>\n",
       "      <th>10871</th>\n",
       "      <td>ቤዛ ጐረ መሰ መሰለኝ ትእዛዝ አል ቀበል ም አለ</td>\n",
       "      <td>data/train/wav/tr_10872_tr09146.wav</td>\n",
       "    </tr>\n",
       "    <tr>\n",
       "      <th>10872</th>\n",
       "      <td>በለጠ ች የ በየነ የ በኩር ልጅ ነች</td>\n",
       "      <td>data/train/wav/tr_10873_tr09147.wav</td>\n",
       "    </tr>\n",
       "    <tr>\n",
       "      <th>10873</th>\n",
       "      <td>እንዲያ መሬት አይ ን ካ ኝ ይል የነበረ ሰው በ ድንገት ቆረቆዘ አይደል</td>\n",
       "      <td>data/train/wav/tr_10874_tr09148.wav</td>\n",
       "    </tr>\n",
       "    <tr>\n",
       "      <th>10874</th>\n",
       "      <td>እጀ ጐልዳ ፋው ሰው ዬ መጻፍ አይችልም</td>\n",
       "      <td>data/train/wav/tr_10875_tr09149.wav</td>\n",
       "    </tr>\n",
       "  </tbody>\n",
       "</table>\n",
       "<p>10875 rows × 2 columns</p>\n",
       "</div>\n",
       "      <button class=\"colab-df-convert\" onclick=\"convertToInteractive('df-b2a05b27-f612-444a-a049-3d647f232c4e')\"\n",
       "              title=\"Convert this dataframe to an interactive table.\"\n",
       "              style=\"display:none;\">\n",
       "        \n",
       "  <svg xmlns=\"http://www.w3.org/2000/svg\" height=\"24px\"viewBox=\"0 0 24 24\"\n",
       "       width=\"24px\">\n",
       "    <path d=\"M0 0h24v24H0V0z\" fill=\"none\"/>\n",
       "    <path d=\"M18.56 5.44l.94 2.06.94-2.06 2.06-.94-2.06-.94-.94-2.06-.94 2.06-2.06.94zm-11 1L8.5 8.5l.94-2.06 2.06-.94-2.06-.94L8.5 2.5l-.94 2.06-2.06.94zm10 10l.94 2.06.94-2.06 2.06-.94-2.06-.94-.94-2.06-.94 2.06-2.06.94z\"/><path d=\"M17.41 7.96l-1.37-1.37c-.4-.4-.92-.59-1.43-.59-.52 0-1.04.2-1.43.59L10.3 9.45l-7.72 7.72c-.78.78-.78 2.05 0 2.83L4 21.41c.39.39.9.59 1.41.59.51 0 1.02-.2 1.41-.59l7.78-7.78 2.81-2.81c.8-.78.8-2.07 0-2.86zM5.41 20L4 18.59l7.72-7.72 1.47 1.35L5.41 20z\"/>\n",
       "  </svg>\n",
       "      </button>\n",
       "      \n",
       "  <style>\n",
       "    .colab-df-container {\n",
       "      display:flex;\n",
       "      flex-wrap:wrap;\n",
       "      gap: 12px;\n",
       "    }\n",
       "\n",
       "    .colab-df-convert {\n",
       "      background-color: #E8F0FE;\n",
       "      border: none;\n",
       "      border-radius: 50%;\n",
       "      cursor: pointer;\n",
       "      display: none;\n",
       "      fill: #1967D2;\n",
       "      height: 32px;\n",
       "      padding: 0 0 0 0;\n",
       "      width: 32px;\n",
       "    }\n",
       "\n",
       "    .colab-df-convert:hover {\n",
       "      background-color: #E2EBFA;\n",
       "      box-shadow: 0px 1px 2px rgba(60, 64, 67, 0.3), 0px 1px 3px 1px rgba(60, 64, 67, 0.15);\n",
       "      fill: #174EA6;\n",
       "    }\n",
       "\n",
       "    [theme=dark] .colab-df-convert {\n",
       "      background-color: #3B4455;\n",
       "      fill: #D2E3FC;\n",
       "    }\n",
       "\n",
       "    [theme=dark] .colab-df-convert:hover {\n",
       "      background-color: #434B5C;\n",
       "      box-shadow: 0px 1px 3px 1px rgba(0, 0, 0, 0.15);\n",
       "      filter: drop-shadow(0px 1px 2px rgba(0, 0, 0, 0.3));\n",
       "      fill: #FFFFFF;\n",
       "    }\n",
       "  </style>\n",
       "\n",
       "      <script>\n",
       "        const buttonEl =\n",
       "          document.querySelector('#df-b2a05b27-f612-444a-a049-3d647f232c4e button.colab-df-convert');\n",
       "        buttonEl.style.display =\n",
       "          google.colab.kernel.accessAllowed ? 'block' : 'none';\n",
       "\n",
       "        async function convertToInteractive(key) {\n",
       "          const element = document.querySelector('#df-b2a05b27-f612-444a-a049-3d647f232c4e');\n",
       "          const dataTable =\n",
       "            await google.colab.kernel.invokeFunction('convertToInteractive',\n",
       "                                                     [key], {});\n",
       "          if (!dataTable) return;\n",
       "\n",
       "          const docLinkHtml = 'Like what you see? Visit the ' +\n",
       "            '<a target=\"_blank\" href=https://colab.research.google.com/notebooks/data_table.ipynb>data table notebook</a>'\n",
       "            + ' to learn more about interactive tables.';\n",
       "          element.innerHTML = '';\n",
       "          dataTable['output_type'] = 'display_data';\n",
       "          await google.colab.output.renderOutput(dataTable, element);\n",
       "          const docLink = document.createElement('div');\n",
       "          docLink.innerHTML = docLinkHtml;\n",
       "          element.appendChild(docLink);\n",
       "        }\n",
       "      </script>\n",
       "    </div>\n",
       "  </div>\n",
       "  "
      ],
      "text/plain": [
       "                                              Transcript  \\\n",
       "0                        ያንደኛ ደረጃ ትምህርታቸው ን ጐንደር ተ ም ረዋል   \n",
       "1      የተ ለቀቁት ምርኮኞች በ አካባቢያቸው ሰላማዊ ኑሮ እንዲ ኖሩ የ ትራንስፖ...   \n",
       "2      በ አዲስ አበባው ስታዲየም በ ተካሄዱ ት ሁለት ግጥሚያ ዎች በ መጀመሪያ ...   \n",
       "3                              ወሬው ን ወሬ ያደረጉ ምስጢረ ኞች ናቸው   \n",
       "4       ኢትዮጵያዊ ቷ በ ብሄራዊ ባህላዊ አለባበስ ከ አለም አንደኝነት ን ተቀዳጀ ች   \n",
       "...                                                  ...   \n",
       "10870                                      እንስራ ው ተ ሸነቆረ   \n",
       "10871                     ቤዛ ጐረ መሰ መሰለኝ ትእዛዝ አል ቀበል ም አለ   \n",
       "10872                            በለጠ ች የ በየነ የ በኩር ልጅ ነች   \n",
       "10873      እንዲያ መሬት አይ ን ካ ኝ ይል የነበረ ሰው በ ድንገት ቆረቆዘ አይደል   \n",
       "10874                           እጀ ጐልዳ ፋው ሰው ዬ መጻፍ አይችልም   \n",
       "\n",
       "                                     audio  \n",
       "0          data/train/wav/tr_1_tr01001.wav  \n",
       "1          data/train/wav/tr_2_tr01002.wav  \n",
       "2          data/train/wav/tr_3_tr01003.wav  \n",
       "3          data/train/wav/tr_4_tr01004.wav  \n",
       "4          data/train/wav/tr_5_tr01005.wav  \n",
       "...                                    ...  \n",
       "10870  data/train/wav/tr_10871_tr09145.wav  \n",
       "10871  data/train/wav/tr_10872_tr09146.wav  \n",
       "10872  data/train/wav/tr_10873_tr09147.wav  \n",
       "10873  data/train/wav/tr_10874_tr09148.wav  \n",
       "10874  data/train/wav/tr_10875_tr09149.wav  \n",
       "\n",
       "[10875 rows x 2 columns]"
      ]
     },
     "execution_count": 8,
     "metadata": {},
     "output_type": "execute_result"
    }
   ],
   "source": [
    "import pandas as pd\n",
    "meta_data=pd.read_csv(\"data/train/trsTrain.txt\",sep=\"\\t\",header=None)\n",
    "meta_data.rename(columns = {0:'Transcript'}, inplace = True)\n",
    "meta_data['audio'] = meta_data['Transcript'].apply(lambda x: x.split(\"</s>\")[1].replace(\"(\", \"\").replace(\")\", \"\").strip())\n",
    "meta_data['Transcript'] = meta_data['Transcript'].apply(lambda x: x.split(\"</s>\")[0])\n",
    "meta_data['Transcript'] = meta_data['Transcript'].apply(lambda x: x.split(\"<s>\")[1].strip())\n",
    "meta_data['audio'] = meta_data['audio'].apply(lambda x: \"data/train/wav/\"+x+\".wav\")\n",
    "meta_data"
   ]
  },
  {
   "cell_type": "markdown",
   "metadata": {},
   "source": [
    "# Resampling"
   ]
  },
  {
   "cell_type": "code",
   "execution_count": null,
   "metadata": {
    "id": "F4Ee44wpLZrU"
   },
   "outputs": [],
   "source": [
    "# resampling any loaded audio files to 44.1KHZ \n",
    "def resample(df, column):\n",
    "    sampled_audio = []\n",
    "    rates = []\n",
    "    for i in df[column]:\n",
    "        audio, rate=librosa.load(i, sr=44100)\n",
    "        sampled_audio.append(audio)\n",
    "        rates.append(rate)\n",
    "    \n",
    "    return sampled_audio, rates\n",
    "resample(meta_data, 'audio')\n"
   ]
  },
  {
   "cell_type": "markdown",
   "metadata": {},
   "source": [
    "# TEST"
   ]
  },
  {
   "cell_type": "code",
   "execution_count": null,
   "metadata": {
    "id": "Q0WwLeOxLZwc"
   },
   "outputs": [],
   "source": [
    "import unittest\n",
    "\n",
    "class TestResampling(unittest.TestCase):\n",
    "    def test_check_resampling(self):\n",
    "        sampled_audio, rates = resample(data, 'key')\n",
    "        expected = [44100, 44100, 44100, 44100, 44100]\n",
    "        self.assertEqual(rates[8:13], expected)"
   ]
  },
  {
   "cell_type": "code",
   "execution_count": null,
   "metadata": {
    "id": "7hsv5UMnLaK7"
   },
   "outputs": [],
   "source": []
  }
 ],
 "metadata": {
  "colab": {
   "authorship_tag": "ABX9TyOhTr1uBH8NeIvZjLRkkYNH",
   "collapsed_sections": [],
   "name": "standardised_sampling_rate.ipynb",
   "provenance": []
  },
  "kernelspec": {
   "display_name": "Python 3 (ipykernel)",
   "language": "python",
   "name": "python3"
  },
  "language_info": {
   "codemirror_mode": {
    "name": "ipython",
    "version": 3
   },
   "file_extension": ".py",
   "mimetype": "text/x-python",
   "name": "python",
   "nbconvert_exporter": "python",
   "pygments_lexer": "ipython3",
   "version": "3.10.3"
  }
 },
 "nbformat": 4,
 "nbformat_minor": 1
}
